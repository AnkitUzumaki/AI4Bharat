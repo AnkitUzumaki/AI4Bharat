{
 "cells": [
  {
   "cell_type": "code",
   "execution_count": null,
   "id": "initial_id",
   "metadata": {
    "collapsed": true
   },
   "outputs": [],
   "source": [
    "from fastapi import FastAPI\n",
    "from pydantic import BaseModel\n",
    "from app.quant_infer import generate_text\n",
    "import time\n",
    "\n",
    "app = FastAPI()\n",
    "\n",
    "class PromptRequest(BaseModel):\n",
    "    prompt: str\n",
    "    max_tokens: int = 128\n",
    "\n",
    "@app.post(\"/predict\")\n",
    "def predict(req: PromptRequest):\n",
    "    start = time.time()\n",
    "    result = generate_text(req.prompt, max_tokens=req.max_tokens)\n",
    "    latency = round(time.time() - start, 3)\n",
    "    return {\"result\": result, \"latency_sec\": latency}\n"
   ]
  }
 ],
 "metadata": {
  "kernelspec": {
   "display_name": "Python 3",
   "language": "python",
   "name": "python3"
  },
  "language_info": {
   "codemirror_mode": {
    "name": "ipython",
    "version": 2
   },
   "file_extension": ".py",
   "mimetype": "text/x-python",
   "name": "python",
   "nbconvert_exporter": "python",
   "pygments_lexer": "ipython2",
   "version": "2.7.6"
  }
 },
 "nbformat": 4,
 "nbformat_minor": 5
}
