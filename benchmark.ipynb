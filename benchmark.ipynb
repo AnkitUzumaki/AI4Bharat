{
 "cells": [
  {
   "cell_type": "code",
   "execution_count": null,
   "id": "initial_id",
   "metadata": {
    "collapsed": true
   },
   "outputs": [],
   "source": [
    "import time\n",
    "from app.quant_infer import generate_text\n",
    "\n",
    "prompts = [\n",
    "    \"India is known for\",\n",
    "    \"Explain quantum computing\",\n",
    "    \"Translate: 'Hello, how are you?' to Hindi\",\n",
    "    \"What is the future of AI in Bharat?\",\n",
    "]\n",
    "\n",
    "def benchmark():\n",
    "    total_time = 0\n",
    "    for prompt in prompts:\n",
    "        start = time.time()\n",
    "        generate_text(prompt)\n",
    "        end = time.time()\n",
    "        elapsed = end - start\n",
    "        print(f\"Prompt: {prompt} | Time: {elapsed:.2f}s\")\n",
    "        total_time += elapsed\n",
    "\n",
    "    print(f\"\\nAverage Latency: {total_time/len(prompts):.2f}s\")\n",
    "\n",
    "if __name__ == \"__main__\":\n",
    "    benchmark()\n"
   ]
  }
 ],
 "metadata": {
  "kernelspec": {
   "display_name": "Python 3",
   "language": "python",
   "name": "python3"
  },
  "language_info": {
   "codemirror_mode": {
    "name": "ipython",
    "version": 2
   },
   "file_extension": ".py",
   "mimetype": "text/x-python",
   "name": "python",
   "nbconvert_exporter": "python",
   "pygments_lexer": "ipython2",
   "version": "2.7.6"
  }
 },
 "nbformat": 4,
 "nbformat_minor": 5
}
